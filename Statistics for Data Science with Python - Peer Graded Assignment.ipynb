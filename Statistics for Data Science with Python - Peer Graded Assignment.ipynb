{
 "cells": [
  {
   "cell_type": "markdown",
   "id": "cccba67c-f011-47ea-92aa-9538185145ee",
   "metadata": {},
   "source": [
    "<center>\n",
    "    <img src=\"https://s3-api.us-geo.objectstorage.softlayer.net/cf-courses-data/CognitiveClass/Logos/organization_logo/organization_logo.png\" width=\"300\" alt=\"cognitiveclass.ai logo\">\n",
    "</center>\n"
   ]
  },
  {
   "cell_type": "markdown",
   "id": "ef235a6c-2eb6-4254-a94f-5aa702e1b6c4",
   "metadata": {},
   "source": [
    "#### Import the required libraries we need for the lab.\n"
   ]
  },
  {
   "cell_type": "code",
   "execution_count": 2,
   "id": "056c9785-c42c-4ee3-9cdb-fa4606224cb3",
   "metadata": {},
   "outputs": [],
   "source": [
    "import pandas as pd\n",
    "import seaborn as sns\n",
    "import matplotlib.pyplot as pyplot\n",
    "import scipy.stats\n",
    "import statsmodels.api as sm\n",
    "from statsmodels.formula.api import ols"
   ]
  },
  {
   "cell_type": "markdown",
   "id": "c0ad07f2-260e-4ad3-a191-f11c140bd39e",
   "metadata": {},
   "source": [
    "#### Read the dataset in the csv file from the URL\n"
   ]
  },
  {
   "cell_type": "code",
   "execution_count": 24,
   "id": "96c6fdfd-5bb0-4469-98b2-f39b7d57cb1f",
   "metadata": {},
   "outputs": [],
   "source": [
    "boston_url = 'https://cf-courses-data.s3.us.cloud-object-storage.appdomain.cloud/IBMDeveloperSkillsNetwork-ST0151EN-SkillsNetwork/labs/boston_housing.csv'\n",
    "boston_df=pd.read_csv(boston_url)"
   ]
  },
  {
   "cell_type": "markdown",
   "id": "55cfa903-c192-4644-9480-dcbdd4f1d335",
   "metadata": {},
   "source": [
    "#### Add your code below following the instructions given in the course to complete the peer graded assignment\n"
   ]
  },
  {
   "cell_type": "markdown",
   "id": "5b8b078d-dd2b-4ddb-8c9d-33aa60bb26a2",
   "metadata": {},
   "source": [
    "<h1>Project Tasks:</h1>\n",
    "\n",
    "<h2>Task 1: Familiarize yourself with the dataset</h2>"
   ]
  },
  {
   "cell_type": "markdown",
   "metadata": {},
   "source": [
    "·      CRIM - per capita crime rate by town\n",
    "\n",
    "·      ZN - proportion of residential land zoned for lots over 25,000 sq.ft.\n",
    "\n",
    "·      INDUS - proportion of non-retail business acres per town.\n",
    "\n",
    "·      CHAS - Charles River dummy variable (1 if tract bounds river; 0 otherwise)\n",
    "\n",
    "·      NOX - nitric oxides concentration (parts per 10 million)\n",
    "\n",
    "·      RM - average number of rooms per dwelling\n",
    "\n",
    "·      AGE - proportion of owner-occupied units built prior to 1940\n",
    "\n",
    "·      DIS - weighted distances to five Boston employment centres\n",
    "\n",
    "·      RAD - index of accessibility to radial highways\n",
    "\n",
    "·      TAX - full-value property-tax rate per $10,000\n",
    "\n",
    "·      PTRATIO - pupil-teacher ratio by town\n",
    "\n",
    "·      LSTAT - % lower status of the population\n",
    "\n",
    "·      MEDV - Median value of owner-occupied homes in $1000's"
   ]
  },
  {
   "cell_type": "code",
   "execution_count": 25,
   "metadata": {},
   "outputs": [
    {
     "data": {
      "text/html": [
       "<div>\n",
       "<style scoped>\n",
       "    .dataframe tbody tr th:only-of-type {\n",
       "        vertical-align: middle;\n",
       "    }\n",
       "\n",
       "    .dataframe tbody tr th {\n",
       "        vertical-align: top;\n",
       "    }\n",
       "\n",
       "    .dataframe thead th {\n",
       "        text-align: right;\n",
       "    }\n",
       "</style>\n",
       "<table border=\"1\" class=\"dataframe\">\n",
       "  <thead>\n",
       "    <tr style=\"text-align: right;\">\n",
       "      <th></th>\n",
       "      <th>Unnamed: 0</th>\n",
       "      <th>CRIM</th>\n",
       "      <th>ZN</th>\n",
       "      <th>INDUS</th>\n",
       "      <th>CHAS</th>\n",
       "      <th>NOX</th>\n",
       "      <th>RM</th>\n",
       "      <th>AGE</th>\n",
       "      <th>DIS</th>\n",
       "      <th>RAD</th>\n",
       "      <th>TAX</th>\n",
       "      <th>PTRATIO</th>\n",
       "      <th>LSTAT</th>\n",
       "      <th>MEDV</th>\n",
       "    </tr>\n",
       "  </thead>\n",
       "  <tbody>\n",
       "    <tr>\n",
       "      <th>0</th>\n",
       "      <td>0</td>\n",
       "      <td>0.00632</td>\n",
       "      <td>18.0</td>\n",
       "      <td>2.31</td>\n",
       "      <td>0.0</td>\n",
       "      <td>0.538</td>\n",
       "      <td>6.575</td>\n",
       "      <td>65.2</td>\n",
       "      <td>4.0900</td>\n",
       "      <td>1.0</td>\n",
       "      <td>296.0</td>\n",
       "      <td>15.3</td>\n",
       "      <td>4.98</td>\n",
       "      <td>24.0</td>\n",
       "    </tr>\n",
       "    <tr>\n",
       "      <th>1</th>\n",
       "      <td>1</td>\n",
       "      <td>0.02731</td>\n",
       "      <td>0.0</td>\n",
       "      <td>7.07</td>\n",
       "      <td>0.0</td>\n",
       "      <td>0.469</td>\n",
       "      <td>6.421</td>\n",
       "      <td>78.9</td>\n",
       "      <td>4.9671</td>\n",
       "      <td>2.0</td>\n",
       "      <td>242.0</td>\n",
       "      <td>17.8</td>\n",
       "      <td>9.14</td>\n",
       "      <td>21.6</td>\n",
       "    </tr>\n",
       "    <tr>\n",
       "      <th>2</th>\n",
       "      <td>2</td>\n",
       "      <td>0.02729</td>\n",
       "      <td>0.0</td>\n",
       "      <td>7.07</td>\n",
       "      <td>0.0</td>\n",
       "      <td>0.469</td>\n",
       "      <td>7.185</td>\n",
       "      <td>61.1</td>\n",
       "      <td>4.9671</td>\n",
       "      <td>2.0</td>\n",
       "      <td>242.0</td>\n",
       "      <td>17.8</td>\n",
       "      <td>4.03</td>\n",
       "      <td>34.7</td>\n",
       "    </tr>\n",
       "    <tr>\n",
       "      <th>3</th>\n",
       "      <td>3</td>\n",
       "      <td>0.03237</td>\n",
       "      <td>0.0</td>\n",
       "      <td>2.18</td>\n",
       "      <td>0.0</td>\n",
       "      <td>0.458</td>\n",
       "      <td>6.998</td>\n",
       "      <td>45.8</td>\n",
       "      <td>6.0622</td>\n",
       "      <td>3.0</td>\n",
       "      <td>222.0</td>\n",
       "      <td>18.7</td>\n",
       "      <td>2.94</td>\n",
       "      <td>33.4</td>\n",
       "    </tr>\n",
       "    <tr>\n",
       "      <th>4</th>\n",
       "      <td>4</td>\n",
       "      <td>0.06905</td>\n",
       "      <td>0.0</td>\n",
       "      <td>2.18</td>\n",
       "      <td>0.0</td>\n",
       "      <td>0.458</td>\n",
       "      <td>7.147</td>\n",
       "      <td>54.2</td>\n",
       "      <td>6.0622</td>\n",
       "      <td>3.0</td>\n",
       "      <td>222.0</td>\n",
       "      <td>18.7</td>\n",
       "      <td>5.33</td>\n",
       "      <td>36.2</td>\n",
       "    </tr>\n",
       "  </tbody>\n",
       "</table>\n",
       "</div>"
      ],
      "text/plain": [
       "   Unnamed: 0     CRIM    ZN  INDUS  CHAS    NOX     RM   AGE     DIS  RAD  \\\n",
       "0           0  0.00632  18.0   2.31   0.0  0.538  6.575  65.2  4.0900  1.0   \n",
       "1           1  0.02731   0.0   7.07   0.0  0.469  6.421  78.9  4.9671  2.0   \n",
       "2           2  0.02729   0.0   7.07   0.0  0.469  7.185  61.1  4.9671  2.0   \n",
       "3           3  0.03237   0.0   2.18   0.0  0.458  6.998  45.8  6.0622  3.0   \n",
       "4           4  0.06905   0.0   2.18   0.0  0.458  7.147  54.2  6.0622  3.0   \n",
       "\n",
       "     TAX  PTRATIO  LSTAT  MEDV  \n",
       "0  296.0     15.3   4.98  24.0  \n",
       "1  242.0     17.8   9.14  21.6  \n",
       "2  242.0     17.8   4.03  34.7  \n",
       "3  222.0     18.7   2.94  33.4  \n",
       "4  222.0     18.7   5.33  36.2  "
      ]
     },
     "execution_count": 25,
     "metadata": {},
     "output_type": "execute_result"
    }
   ],
   "source": [
    "boston_df.head()"
   ]
  },
  {
   "cell_type": "markdown",
   "metadata": {},
   "source": [
    "<h2>Task 2: Generate basic statistics and visualizations for upper management.</h2>\n"
   ]
  },
  {
   "cell_type": "code",
   "execution_count": 21,
   "metadata": {},
   "outputs": [
    {
     "data": {
      "text/html": [
       "<div>\n",
       "<style scoped>\n",
       "    .dataframe tbody tr th:only-of-type {\n",
       "        vertical-align: middle;\n",
       "    }\n",
       "\n",
       "    .dataframe tbody tr th {\n",
       "        vertical-align: top;\n",
       "    }\n",
       "\n",
       "    .dataframe thead th {\n",
       "        text-align: right;\n",
       "    }\n",
       "</style>\n",
       "<table border=\"1\" class=\"dataframe\">\n",
       "  <thead>\n",
       "    <tr style=\"text-align: right;\">\n",
       "      <th></th>\n",
       "      <th>Unnamed: 0</th>\n",
       "      <th>CRIM</th>\n",
       "      <th>ZN</th>\n",
       "      <th>INDUS</th>\n",
       "      <th>CHAS</th>\n",
       "      <th>NOX</th>\n",
       "      <th>RM</th>\n",
       "      <th>DIS</th>\n",
       "      <th>RAD</th>\n",
       "      <th>TAX</th>\n",
       "      <th>PTRATIO</th>\n",
       "      <th>LSTAT</th>\n",
       "      <th>MEDV</th>\n",
       "    </tr>\n",
       "  </thead>\n",
       "  <tbody>\n",
       "    <tr>\n",
       "      <th>count</th>\n",
       "      <td>506.000000</td>\n",
       "      <td>506.000000</td>\n",
       "      <td>506.000000</td>\n",
       "      <td>506.000000</td>\n",
       "      <td>506.000000</td>\n",
       "      <td>506.000000</td>\n",
       "      <td>506.000000</td>\n",
       "      <td>506.000000</td>\n",
       "      <td>506.000000</td>\n",
       "      <td>506.000000</td>\n",
       "      <td>506.000000</td>\n",
       "      <td>506.000000</td>\n",
       "      <td>506.000000</td>\n",
       "    </tr>\n",
       "    <tr>\n",
       "      <th>mean</th>\n",
       "      <td>252.500000</td>\n",
       "      <td>3.613524</td>\n",
       "      <td>11.363636</td>\n",
       "      <td>11.136779</td>\n",
       "      <td>0.069170</td>\n",
       "      <td>0.554695</td>\n",
       "      <td>6.284634</td>\n",
       "      <td>3.795043</td>\n",
       "      <td>9.549407</td>\n",
       "      <td>408.237154</td>\n",
       "      <td>18.455534</td>\n",
       "      <td>12.653063</td>\n",
       "      <td>22.532806</td>\n",
       "    </tr>\n",
       "    <tr>\n",
       "      <th>std</th>\n",
       "      <td>146.213884</td>\n",
       "      <td>8.601545</td>\n",
       "      <td>23.322453</td>\n",
       "      <td>6.860353</td>\n",
       "      <td>0.253994</td>\n",
       "      <td>0.115878</td>\n",
       "      <td>0.702617</td>\n",
       "      <td>2.105710</td>\n",
       "      <td>8.707259</td>\n",
       "      <td>168.537116</td>\n",
       "      <td>2.164946</td>\n",
       "      <td>7.141062</td>\n",
       "      <td>9.197104</td>\n",
       "    </tr>\n",
       "    <tr>\n",
       "      <th>min</th>\n",
       "      <td>0.000000</td>\n",
       "      <td>0.006320</td>\n",
       "      <td>0.000000</td>\n",
       "      <td>0.460000</td>\n",
       "      <td>0.000000</td>\n",
       "      <td>0.385000</td>\n",
       "      <td>3.561000</td>\n",
       "      <td>1.129600</td>\n",
       "      <td>1.000000</td>\n",
       "      <td>187.000000</td>\n",
       "      <td>12.600000</td>\n",
       "      <td>1.730000</td>\n",
       "      <td>5.000000</td>\n",
       "    </tr>\n",
       "    <tr>\n",
       "      <th>25%</th>\n",
       "      <td>126.250000</td>\n",
       "      <td>0.082045</td>\n",
       "      <td>0.000000</td>\n",
       "      <td>5.190000</td>\n",
       "      <td>0.000000</td>\n",
       "      <td>0.449000</td>\n",
       "      <td>5.885500</td>\n",
       "      <td>2.100175</td>\n",
       "      <td>4.000000</td>\n",
       "      <td>279.000000</td>\n",
       "      <td>17.400000</td>\n",
       "      <td>6.950000</td>\n",
       "      <td>17.025000</td>\n",
       "    </tr>\n",
       "    <tr>\n",
       "      <th>50%</th>\n",
       "      <td>252.500000</td>\n",
       "      <td>0.256510</td>\n",
       "      <td>0.000000</td>\n",
       "      <td>9.690000</td>\n",
       "      <td>0.000000</td>\n",
       "      <td>0.538000</td>\n",
       "      <td>6.208500</td>\n",
       "      <td>3.207450</td>\n",
       "      <td>5.000000</td>\n",
       "      <td>330.000000</td>\n",
       "      <td>19.050000</td>\n",
       "      <td>11.360000</td>\n",
       "      <td>21.200000</td>\n",
       "    </tr>\n",
       "    <tr>\n",
       "      <th>75%</th>\n",
       "      <td>378.750000</td>\n",
       "      <td>3.677083</td>\n",
       "      <td>12.500000</td>\n",
       "      <td>18.100000</td>\n",
       "      <td>0.000000</td>\n",
       "      <td>0.624000</td>\n",
       "      <td>6.623500</td>\n",
       "      <td>5.188425</td>\n",
       "      <td>24.000000</td>\n",
       "      <td>666.000000</td>\n",
       "      <td>20.200000</td>\n",
       "      <td>16.955000</td>\n",
       "      <td>25.000000</td>\n",
       "    </tr>\n",
       "    <tr>\n",
       "      <th>max</th>\n",
       "      <td>505.000000</td>\n",
       "      <td>88.976200</td>\n",
       "      <td>100.000000</td>\n",
       "      <td>27.740000</td>\n",
       "      <td>1.000000</td>\n",
       "      <td>0.871000</td>\n",
       "      <td>8.780000</td>\n",
       "      <td>12.126500</td>\n",
       "      <td>24.000000</td>\n",
       "      <td>711.000000</td>\n",
       "      <td>22.000000</td>\n",
       "      <td>37.970000</td>\n",
       "      <td>50.000000</td>\n",
       "    </tr>\n",
       "  </tbody>\n",
       "</table>\n",
       "</div>"
      ],
      "text/plain": [
       "       Unnamed: 0        CRIM          ZN       INDUS        CHAS         NOX  \\\n",
       "count  506.000000  506.000000  506.000000  506.000000  506.000000  506.000000   \n",
       "mean   252.500000    3.613524   11.363636   11.136779    0.069170    0.554695   \n",
       "std    146.213884    8.601545   23.322453    6.860353    0.253994    0.115878   \n",
       "min      0.000000    0.006320    0.000000    0.460000    0.000000    0.385000   \n",
       "25%    126.250000    0.082045    0.000000    5.190000    0.000000    0.449000   \n",
       "50%    252.500000    0.256510    0.000000    9.690000    0.000000    0.538000   \n",
       "75%    378.750000    3.677083   12.500000   18.100000    0.000000    0.624000   \n",
       "max    505.000000   88.976200  100.000000   27.740000    1.000000    0.871000   \n",
       "\n",
       "               RM         DIS         RAD         TAX     PTRATIO       LSTAT  \\\n",
       "count  506.000000  506.000000  506.000000  506.000000  506.000000  506.000000   \n",
       "mean     6.284634    3.795043    9.549407  408.237154   18.455534   12.653063   \n",
       "std      0.702617    2.105710    8.707259  168.537116    2.164946    7.141062   \n",
       "min      3.561000    1.129600    1.000000  187.000000   12.600000    1.730000   \n",
       "25%      5.885500    2.100175    4.000000  279.000000   17.400000    6.950000   \n",
       "50%      6.208500    3.207450    5.000000  330.000000   19.050000   11.360000   \n",
       "75%      6.623500    5.188425   24.000000  666.000000   20.200000   16.955000   \n",
       "max      8.780000   12.126500   24.000000  711.000000   22.000000   37.970000   \n",
       "\n",
       "             MEDV  \n",
       "count  506.000000  \n",
       "mean    22.532806  \n",
       "std      9.197104  \n",
       "min      5.000000  \n",
       "25%     17.025000  \n",
       "50%     21.200000  \n",
       "75%     25.000000  \n",
       "max     50.000000  "
      ]
     },
     "execution_count": 21,
     "metadata": {},
     "output_type": "execute_result"
    }
   ],
   "source": [
    "boston_df.describe()"
   ]
  },
  {
   "cell_type": "markdown",
   "metadata": {},
   "source": [
    "<strong>For all visualizations, please include a title in each graph and appropriate labels</strong>\n",
    "<h3>Generate the following and explain your findings:</h3>"
   ]
  },
  {
   "cell_type": "code",
   "execution_count": 34,
   "metadata": {},
   "outputs": [
    {
     "data": {
      "image/png": "[encoded data removed]",
      "text/plain": [
       "<Figure size 640x480 with 1 Axes>"
      ]
     },
     "metadata": {},
     "output_type": "display_data"
    },
    {
     "name": "stdout",
     "output_type": "stream",
     "text": [
      "\n",
      "The boxplot shows the distribution of the median value of owner-occupied homes in the Boston housing dataset. \n",
      "The box represents the interquartile range (IQR), with the line inside the box indicating the median. \n",
      "The \"whiskers\" extend to show the range of the data, excluding outliers, which are represented as individual points outside the whiskers. \n",
      "The presence of outliers suggests that there are some homes with significantly higher or lower values compared to the rest of the dataset.\n",
      "The median value of homes is around 22, with a few outliers on the higher end, indicating that while most homes are valued around this median, there are some homes with much higher values. \n",
      "This could be due to various factors such as location, size, and amenities.\n",
      "The boxplot is a useful visualization for understanding the spread and skewness of the data, as well as identifying potential outliers that may need further investigation.\n",
      "\n"
     ]
    }
   ],
   "source": [
    "# For the \"Median value of owner-occupied homes\" provide a boxplot\n",
    "sns.boxplot(x=boston_df['MEDV'])\n",
    "pyplot.title('Boxplot of Median Value of Owner-Occupied Homes')\n",
    "pyplot.xlabel('Median Value of Owner-Occupied Homes')\n",
    "pyplot.show()\n",
    "description=\"\"\"\n",
    "The boxplot shows the distribution of the median value of owner-occupied homes in the Boston housing dataset. \n",
    "The box represents the interquartile range (IQR), with the line inside the box indicating the median. \n",
    "The \"whiskers\" extend to show the range of the data, excluding outliers, which are represented as individual points outside the whiskers. \n",
    "The presence of outliers suggests that there are some homes with significantly higher or lower values compared to the rest of the dataset.\n",
    "The median value of homes is around 22, with a few outliers on the higher end, indicating that while most homes are valued around this median, there are some homes with much higher values. \n",
    "This could be due to various factors such as location, size, and amenities.\n",
    "The boxplot is a useful visualization for understanding the spread and skewness of the data, as well as identifying potential outliers that may need further investigation.\n",
    "\"\"\"\n",
    "print(description)"
   ]
  },
  {
   "cell_type": "code",
   "execution_count": 35,
   "metadata": {},
   "outputs": [
    {
     "data": {
      "image/png": "[encoded data removed]",
      "text/plain": [
       "<Figure size 640x480 with 1 Axes>"
      ]
     },
     "metadata": {},
     "output_type": "display_data"
    },
    {
     "name": "stdout",
     "output_type": "stream",
     "text": [
      "\n",
      "The Charles River variable is a binary variable indicating whether the property is located near the Charles River (1) or not (0). \n",
      "The bar plot shows the count of properties in each category. \n",
      "The majority of properties are not located near the river, as indicated by the higher count for the 0 category.\n",
      "The count of properties located near the river (1) is significantly lower, indicating that only a small portion of the properties in the dataset are situated near the Charles River. \n",
      "This could be an important factor to consider when analyzing property values, as proximity to natural features can influence real estate prices.\n",
      "The boxplot for the median value of owner-occupied homes (MEDV) shows the distribution of home prices in the Boston area. \n",
      "The median value is represented by the line inside the box, while the interquartile range (IQR) is represented by the box itself. \n",
      "The whiskers extend to show the range of values within 1.5 times the IQR from the lower and upper quartiles. \n",
      "Any points outside this range are considered outliers and are plotted as individual points.\n",
      "The boxplot indicates that the median value of homes is around 22, with a few outliers on the higher end. \n",
      "The distribution appears to be right-skewed, indicating that there are some high-value properties that may be influencing the overall median. The presence of outliers suggests that there are properties with significantly higher values than the majority of the dataset.\n",
      "\n"
     ]
    }
   ],
   "source": [
    "#Provide a bar plot for the Charles river variable\n",
    "sns.countplot(x=boston_df['CHAS'])\n",
    "pyplot.title('Bar Plot of Charles River Variable')\n",
    "pyplot.xlabel('Charles River Variable')\n",
    "pyplot.ylabel('Count')\n",
    "pyplot.show()\n",
    "description=\"\"\"\n",
    "The Charles River variable is a binary variable indicating whether the property is located near the Charles River (1) or not (0). \n",
    "The bar plot shows the count of properties in each category. \n",
    "The majority of properties are not located near the river, as indicated by the higher count for the 0 category.\n",
    "The count of properties located near the river (1) is significantly lower, indicating that only a small portion of the properties in the dataset are situated near the Charles River. \n",
    "This could be an important factor to consider when analyzing property values, as proximity to natural features can influence real estate prices.\n",
    "The boxplot for the median value of owner-occupied homes (MEDV) shows the distribution of home prices in the Boston area. \n",
    "The median value is represented by the line inside the box, while the interquartile range (IQR) is represented by the box itself. \n",
    "The whiskers extend to show the range of values within 1.5 times the IQR from the lower and upper quartiles. \n",
    "Any points outside this range are considered outliers and are plotted as individual points.\n",
    "The boxplot indicates that the median value of homes is around 22, with a few outliers on the higher end. \n",
    "The distribution appears to be right-skewed, indicating that there are some high-value properties that may be influencing the overall median. The presence of outliers suggests that there are properties with significantly higher values than the majority of the dataset.\n",
    "\"\"\"\n",
    "print(description)\n"
   ]
  },
  {
   "cell_type": "code",
   "execution_count": 36,
   "metadata": {},
   "outputs": [
    {
     "data": {
      "image/png": "[encoded data removed]",
      "text/plain": [
       "<Figure size 640x480 with 1 Axes>"
      ]
     },
     "metadata": {},
     "output_type": "display_data"
    },
    {
     "name": "stdout",
     "output_type": "stream",
     "text": [
      "\n",
      "The boxplot shows the distribution of the median value of owner-occupied homes (MEDV) across three age groups: 35 and younger, between 35 and 70, and 70 and older. \n",
      "The boxplot displays the median, quartiles, and potential outliers for each age group. \n",
      "The median value of homes appears to be highest in the \"between 35 and 70\" age group, while the \"35 and younger\" group has the lowest median value. \n",
      "The \"70 and older\" group has a wider range of values, indicating more variability in home prices for that age group.\n",
      "The boxplot provides a visual representation of the differences in home values across these age groups, highlighting the potential impact of age on housing prices in the Boston area.\n",
      "\n"
     ]
    }
   ],
   "source": [
    "#Provide a boxplot for the MEDV variable vs the AGE variable. (Discretize the age variable into three groups of 35 years and younger, between 35 and 70 years and 70 years and older)\n",
    "# COPY_boston_df = boston_df.copy()\n",
    "# COPY_boston_df['AGE'] = pd.cut(COPY_boston_df['AGE'], bins=[0, 35, 70, 100], labels=['35 and younger', 'between 35 and 70', '70 and older'])\n",
    "sns.boxplot(x=COPY_boston_df['AGE'], y=COPY_boston_df['MEDV'])\n",
    "pyplot.title('Boxplot of MEDV vs AGE')\n",
    "description=\"\"\"\n",
    "The boxplot shows the distribution of the median value of owner-occupied homes (MEDV) across three age groups: 35 and younger, between 35 and 70, and 70 and older. \n",
    "The boxplot displays the median, quartiles, and potential outliers for each age group. \n",
    "The median value of homes appears to be highest in the \"between 35 and 70\" age group, while the \"35 and younger\" group has the lowest median value. \n",
    "The \"70 and older\" group has a wider range of values, indicating more variability in home prices for that age group.\n",
    "The boxplot provides a visual representation of the differences in home values across these age groups, highlighting the potential impact of age on housing prices in the Boston area.\n",
    "\"\"\"\n",
    "pyplot.xlabel('Age Group')\n",
    "pyplot.ylabel('Median Value of Owner-Occupied Homes')\n",
    "pyplot.show()\n",
    "print(description)\n"
   ]
  },
  {
   "cell_type": "code",
   "execution_count": 38,
   "metadata": {},
   "outputs": [
    {
     "data": {
      "image/png": "[encoded data removed]",
      "text/plain": [
       "<Figure size 640x480 with 1 Axes>"
      ]
     },
     "metadata": {},
     "output_type": "display_data"
    },
    {
     "name": "stdout",
     "output_type": "stream",
     "text": [
      " \n",
      "The scatter plot shows the relationship between Nitric Oxide concentrations (NOX) and the proportion of non-retail business acres per town (INDUS).\n",
      "The x-axis represents the Nitric Oxide concentrations, while the y-axis represents the proportion of non-retail business acres.\n",
      "\n"
     ]
    }
   ],
   "source": [
    "#Provide a scatter plot to show the relationship between Nitric oxide concentrations and the proportion of non-retail business acres per town. What can you say about the relationship?\n",
    "sns.scatterplot(x=boston_df['NOX'], y=boston_df['INDUS'])\n",
    "pyplot.title('Scatter Plot of Nitric Oxide Concentrations vs Proportion of Non-Retail Business Acres')\n",
    "pyplot.xlabel('Nitric Oxide Concentrations')\n",
    "pyplot.ylabel('Proportion of Non-Retail Business Acres')\n",
    "description = \"\"\" \n",
    "The scatter plot shows the relationship between Nitric Oxide concentrations (NOX) and the proportion of non-retail business acres per town (INDUS).\n",
    "The x-axis represents the Nitric Oxide concentrations, while the y-axis represents the proportion of non-retail business acres.\n",
    "\"\"\"\n",
    "pyplot.show()\n",
    "print(description)"
   ]
  },
  {
   "cell_type": "code",
   "execution_count": 37,
   "metadata": {},
   "outputs": [
    {
     "data": {
      "image/png": "[encoded data removed]",
      "text/plain": [
       "<Figure size 640x480 with 1 Axes>"
      ]
     },
     "metadata": {},
     "output_type": "display_data"
    },
    {
     "name": "stdout",
     "output_type": "stream",
     "text": [
      "\n",
      "This histogram shows the distribution of the pupil to teacher ratio in the Boston housing dataset. \n",
      "The x-axis represents the pupil to teacher ratio, while the y-axis represents the frequency of each ratio. \n",
      "The histogram is overlaid with a kernel density estimate (KDE) curve, which provides a smoothed representation of the distribution.\n",
      "\n"
     ]
    }
   ],
   "source": [
    "#Create a histogram for the pupil to teacher ratio variable\n",
    "sns.histplot(boston_df['PTRATIO'], bins=50, kde=True)\n",
    "pyplot.title('Histogram of Pupil to Teacher Ratio')\n",
    "pyplot.xlabel('Pupil to Teacher Ratio')\n",
    "pyplot.ylabel('Frequency')\n",
    "pyplot.show()\n",
    "description = \"\"\"\n",
    "This histogram shows the distribution of the pupil to teacher ratio in the Boston housing dataset. \n",
    "The x-axis represents the pupil to teacher ratio, while the y-axis represents the frequency of each ratio. \n",
    "The histogram is overlaid with a kernel density estimate (KDE) curve, which provides a smoothed representation of the distribution.\n",
    "\"\"\"\n",
    "print(description)"
   ]
  },
  {
   "cell_type": "markdown",
   "metadata": {},
   "source": [
    "<h2>Task 3: Use the appropriate tests to answer the questions provided.</h2>"
   ]
  },
  {
   "cell_type": "markdown",
   "metadata": {},
   "source": [
    "For each of the following questions;\n",
    "\n",
    "Be sure to:\n",
    "\n",
    "State your hypothesis.\n",
    "\n",
    "Use α = 0.05\n",
    "\n",
    "Perform the test Statistics.\n",
    "\n",
    "State the conclusion from the test."
   ]
  },
  {
   "cell_type": "code",
   "execution_count": 50,
   "metadata": {},
   "outputs": [],
   "source": [
    "from scipy import stats\n",
    "import statsmodels.api as sm\n",
    "from statsmodels.formula.api import ols\n",
    "from scipy.stats import pearsonr, shapiro\n",
    "from scipy.stats import ttest_ind"
   ]
  },
  {
   "cell_type": "code",
   "execution_count": 40,
   "metadata": {},
   "outputs": [
    {
     "name": "stdout",
     "output_type": "stream",
     "text": [
      "\n",
      "T-test for Difference in Median House Values by Charles River Proximity:\n",
      "- Groups Compared: Houses bounded by the Charles River (CHAS = 1) vs. not bounded (CHAS = 0)\n",
      "- Mean Value (Bounded): $28.44 thousand\n",
      "- Mean Value (Not Bounded): $22.09 thousand\n",
      "- Median Value (Bounded): $23.30 thousand\n",
      "- Median Value (Not Bounded): $20.90 thousand\n",
      "- T-statistic: 3.113\n",
      "- P-value: 0.0036\n",
      "- Conclusion: There is a significant difference \n",
      "  in median house values between houses bounded and not bounded by the Charles River \n",
      "  (p-value < 0.05).\n",
      "\n"
     ]
    }
   ],
   "source": [
    "#Is there a significant difference in median value of houses bounded by the Charles river or not? (T-test for independent samples)\n",
    "\n",
    "\"\"\"SPLIT DATA:\"\"\"\n",
    "medv_chas_1 = boston_df[boston_df['CHAS'] == 1]['MEDV']  # Houses bounded by the river\n",
    "medv_chas_0 = boston_df[boston_df['CHAS'] == 0]['MEDV']  # Houses not bounded\n",
    "\n",
    "t_stat, p_value = ttest_ind(medv_chas_1, medv_chas_0, equal_var=False)  # Use Welch's t-test (no equal variance assumption)\n",
    "\n",
    "mean_chas_1 = medv_chas_1.mean()\n",
    "mean_chas_0 = medv_chas_0.mean()\n",
    "median_chas_1 = medv_chas_1.median()\n",
    "median_chas_0 = medv_chas_0.median()\n",
    "\n",
    "# Print interpreted results\n",
    "print(f\"\"\"\n",
    "T-test for Difference in Median House Values by Charles River Proximity:\n",
    "- Groups Compared: Houses bounded by the Charles River (CHAS = 1) vs. not bounded (CHAS = 0)\n",
    "- Mean Value (Bounded): ${mean_chas_1:.2f} thousand\n",
    "- Mean Value (Not Bounded): ${mean_chas_0:.2f} thousand\n",
    "- Median Value (Bounded): ${median_chas_1:.2f} thousand\n",
    "- Median Value (Not Bounded): ${median_chas_0:.2f} thousand\n",
    "- T-statistic: {t_stat:.3f}\n",
    "- P-value: {p_value:.4f}\n",
    "- Conclusion: {'There is a significant difference' if p_value < 0.05 else 'There is no significant difference'} \n",
    "  in median house values between houses bounded and not bounded by the Charles River \n",
    "  (p-value {'<' if p_value < 0.05 else '>'} 0.05).\n",
    "\"\"\")"
   ]
  },
  {
   "cell_type": "code",
   "execution_count": 48,
   "metadata": {},
   "outputs": [
    {
     "name": "stdout",
     "output_type": "stream",
     "text": [
      "                sum_sq     df         F   PR(>F)\n",
      "C(AGE)    29884.038419  355.0  0.984009  0.55397\n",
      "Residual  12832.256996  150.0       NaN      NaN\n"
     ]
    }
   ],
   "source": [
    "#Is there a difference in Median values of houses (MEDV) for each proportion of owner occupied units built prior to 1940 (AGE)? (ANOVA)\n",
    "#boston_df['MEDV'] = boston.target\n",
    "#bins = [0, 33.33, 66.66, 100]  # Roughly terciles or meaningful cutoffs\n",
    "#labels = ['Low (0–33.33)', 'Medium (33.33–66.66)', 'High (66.66–100)']\n",
    "#boston_df['AGE_cat'] = pd.cut(boston_df['AGE'], bins=bins, labels=labels, include_lowest=True)\n",
    "#print(\"Distribution of AGE categories:\")\n",
    "#print(boston_df['AGE_cat'].value_counts())\n",
    "#desc_stats = boston_df.groupby('AGE_cat')['MEDV'].agg(['mean', 'median']).round(2)\n",
    "#print(\"\\nDescriptive Statistics for MEDV by AGE Category:\")\n",
    "#print(desc_stats)\n",
    "\n",
    "model = ols('MEDV ~ C(AGE)', data=boston_df).fit()\n",
    "anova_table = sm.stats.anova_lm(model, typ=2)\n",
    "\n",
    "\n",
    "\"\"\"KEY RESULTS:\"\"\"\n",
    "#f_stat = anova_table['F']['C(AGE_cat)']\n",
    "#p_value = anova_table['PR(>F)']['C(AGE_cat)']\n",
    "\n",
    "\n",
    "\"\"\"SUMMARY:\"\"\"\n",
    "print(anova_table)"
   ]
  },
  {
   "cell_type": "code",
   "execution_count": 52,
   "metadata": {},
   "outputs": [
    {
     "name": "stdout",
     "output_type": "stream",
     "text": [
      "Pearson correlation: 0.763651446920915 \n",
      " with associated probability: 7.913361061241532e-98\n"
     ]
    },
    {
     "data": {
      "text/plain": [
       "'very strong'"
      ]
     },
     "execution_count": 52,
     "metadata": {},
     "output_type": "execute_result"
    }
   ],
   "source": [
    "#Can we conclude that there is no relationship between Nitric oxide concentrations and proportion of non-retail business acres per town? (Pearson Correlation)\n",
    "\n",
    "correlation, p_value = pearsonr(boston_df['NOX'], boston_df['INDUS'])\n",
    "print(f'Pearson correlation: {correlation} \\n with associated probability: {p_value}')\n",
    "\n",
    "# Check normality assumption (optional, for Pearson correlation)\n",
    "nox_norm_p = shapiro(boston_df['NOX'])[1]\n",
    "indus_norm_p = shapiro(boston_df['INDUS'])[1]\n",
    "\n",
    "# Interpret correlation strength\n",
    "def correlation_strength(corr):\n",
    "    corr = abs(corr)\n",
    "    if corr < 0.1:\n",
    "        return \"negligible\"\n",
    "    elif corr < 0.3:\n",
    "        return \"weak\"\n",
    "    elif corr < 0.5:\n",
    "        return \"moderate\"\n",
    "    elif corr < 0.7:\n",
    "        return \"strong\"\n",
    "    else:\n",
    "        return \"very strong\"\n",
    "    \n",
    "correlation_strength(correlation)"
   ]
  },
  {
   "cell_type": "code",
   "execution_count": 49,
   "metadata": {},
   "outputs": [
    {
     "name": "stdout",
     "output_type": "stream",
     "text": [
      "\n",
      "Impact of Weighted Distance to Employment Centers on Median Home Value:\n",
      "- A one-unit increase in weighted distance (DIS) to the five Boston employment centers\n",
      "  is associated with a $1.09 thousand change in the median value of owner-occupied homes.\n",
      "- Statistical significance: Significant (p-value = 0.0000).\n",
      "- Model fit: The model explains 6.2% of the variance in median home values (R-squared = 0.062).\n",
      "- Note: This simple regression does not account for other factors that may influence home values.\n",
      "\n",
      "                            OLS Regression Results                            \n",
      "==============================================================================\n",
      "Dep. Variable:                   MEDV   R-squared:                       0.062\n",
      "Model:                            OLS   Adj. R-squared:                  0.061\n",
      "Method:                 Least Squares   F-statistic:                     33.58\n",
      "Date:                Mon, 19 May 2025   Prob (F-statistic):           1.21e-08\n",
      "Time:                        18:13:33   Log-Likelihood:                -1823.9\n",
      "No. Observations:                 506   AIC:                             3652.\n",
      "Df Residuals:                     504   BIC:                             3660.\n",
      "Df Model:                           1                                         \n",
      "Covariance Type:            nonrobust                                         \n",
      "==============================================================================\n",
      "                 coef    std err          t      P>|t|      [0.025      0.975]\n",
      "------------------------------------------------------------------------------\n",
      "Intercept     18.3901      0.817     22.499      0.000      16.784      19.996\n",
      "DIS            1.0916      0.188      5.795      0.000       0.722       1.462\n",
      "==============================================================================\n",
      "Omnibus:                      139.779   Durbin-Watson:                   0.570\n",
      "Prob(Omnibus):                  0.000   Jarque-Bera (JB):              305.104\n",
      "Skew:                           1.466   Prob(JB):                     5.59e-67\n",
      "Kurtosis:                       5.424   Cond. No.                         9.32\n",
      "==============================================================================\n",
      "\n",
      "Notes:\n",
      "[1] Standard Errors assume that the covariance matrix of the errors is correctly specified.\n"
     ]
    }
   ],
   "source": [
    "#What is the impact of an additional weighted distance  to the five Boston employment centres on the median value of owner occupied homes? (Regression analysis)\n",
    "\n",
    "model = ols('MEDV ~ DIS', data=boston_df).fit()\n",
    "\n",
    "\"\"\"KEY RESULTS:\"\"\"\n",
    "coef = model.params['DIS']\n",
    "p_value = model.pvalues['DIS']\n",
    "r_squared = model.rsquared\n",
    "\n",
    "print(f\"\"\"\n",
    "Impact of Weighted Distance to Employment Centers on Median Home Value:\n",
    "- A one-unit increase in weighted distance (DIS) to the five Boston employment centers\n",
    "  is associated with a ${coef:.2f} thousand change in the median value of owner-occupied homes.\n",
    "- Statistical significance: {'Significant' if p_value < 0.05 else 'Not significant'} (p-value = {p_value:.4f}).\n",
    "- Model fit: The model explains {r_squared*100:.1f}% of the variance in median home values (R-squared = {r_squared:.3f}).\n",
    "- Note: This simple regression does not account for other factors that may influence home values.\n",
    "\"\"\")\n",
    "\n",
    "\"\"\"SUMMARY:\"\"\"\n",
    "print(model.summary())\n"
   ]
  },
  {
   "cell_type": "markdown",
   "metadata": {},
   "source": [
    "<h2>Task 4: Share your Jupyter Notebook.</h2>"
   ]
  },
  {
   "cell_type": "code",
   "execution_count": null,
   "metadata": {},
   "outputs": [],
   "source": []
  }
 ],
 "metadata": {
  "kernelspec": {
   "display_name": ".venv",
   "language": "python",
   "name": "python3"
  },
  "language_info": {
   "codemirror_mode": {
    "name": "ipython",
    "version": 3
   },
   "file_extension": ".py",
   "mimetype": "text/x-python",
   "name": "python",
   "nbconvert_exporter": "python",
   "pygments_lexer": "ipython3",
   "version": "3.11.9"
  },
  "prev_pub_hash": "e8217a69c6d5ee68d06c806e939831533d260fbfc123f81d52c578e9136390dd"
 },
 "nbformat": 4,
 "nbformat_minor": 4
}
